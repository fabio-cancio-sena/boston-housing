{
  "nbformat": 4,
  "nbformat_minor": 0,
  "metadata": {
    "anaconda-cloud": {},
    "kernelspec": {
      "display_name": "Python [Root]",
      "language": "python",
      "name": "Python [Root]"
    },
    "language_info": {
      "codemirror_mode": {
        "name": "ipython",
        "version": 2
      },
      "file_extension": ".py",
      "mimetype": "text/x-python",
      "name": "python",
      "nbconvert_exporter": "python",
      "pygments_lexer": "ipython2",
      "version": "2.7.12"
    },
    "colab": {
      "name": "boston_housing.ipynb",
      "provenance": []
    }
  },
  "cells": [
    {
      "cell_type": "markdown",
      "metadata": {
        "id": "1Hjmh2y0sOk9",
        "colab_type": "text"
      },
      "source": [
        "# Machine Learning Engineer Nanodegree\n",
        "## Model Evaluation & Validation\n",
        "## Project 1: Predicting Boston Housing Prices\n",
        "\n",
        "Welcome to the first project of the Machine Learning Engineer Nanodegree! In this notebook, some template code has already been provided for you, and you will need to implement additional functionality to successfully complete this project. You will not need to modify the included code beyond what is requested. Sections that begin with **'Implementation'** in the header indicate that the following block of code will require additional functionality which you must provide. Instructions will be provided for each section and the specifics of the implementation are marked in the code block with a 'TODO' statement. Please be sure to read the instructions carefully!\n",
        "\n",
        "In addition to implementing code, there will be questions that you must answer which relate to the project and your implementation. Each section where you will answer a question is preceded by a **'Question X'** header. Carefully read each question and provide thorough answers in the following text boxes that begin with **'Answer:'**. Your project submission will be evaluated based on your answers to each of the questions and the implementation you provide.  \n",
        "\n",
        ">**Note:** Code and Markdown cells can be executed using the **Shift + Enter** keyboard shortcut. In addition, Markdown cells can be edited by typically double-clicking the cell to enter edit mode."
      ]
    },
    {
      "cell_type": "markdown",
      "metadata": {
        "id": "HFVIefo-sOk_",
        "colab_type": "text"
      },
      "source": [
        "## Getting Started\n",
        "In this project, you will evaluate the performance and predictive power of a model that has been trained and tested on data collected from homes in suburbs of Boston, Massachusetts. A model trained on this data that is seen as a *good fit* could then be used to make certain predictions about a home — in particular, its monetary value. This model would prove to be invaluable for someone like a real estate agent who could make use of such information on a daily basis.\n",
        "\n",
        "The dataset for this project originates from the [UCI Machine Learning Repository](https://archive.ics.uci.edu/ml/datasets/Housing). The Boston housing data was collected in 1978 and each of the 506 entries represent aggregated data about 14 features for homes from various suburbs in Boston, Massachusetts. For the purposes of this project, the following preprocessing steps have been made to the dataset:\n",
        "- 16 data points have an `'MEDV'` value of 50.0. These data points likely contain **missing or censored values** and have been removed.\n",
        "- 1 data point has an `'RM'` value of 8.78. This data point can be considered an **outlier** and has been removed.\n",
        "- The features `'RM'`, `'LSTAT'`, `'PTRATIO'`, and `'MEDV'` are essential. The remaining **non-relevant features** have been excluded.\n",
        "- The feature `'MEDV'` has been **multiplicatively scaled** to account for 35 years of market inflation.\n",
        "\n",
        "Run the code cell below to load the Boston housing dataset, along with a few of the necessary Python libraries required for this project. You will know the dataset loaded successfully if the size of the dataset is reported."
      ]
    },
    {
      "cell_type": "code",
      "metadata": {
        "id": "R2EecwJWsOlA",
        "colab_type": "code",
        "colab": {},
        "outputId": "2a4ba38c-44cd-4b73-fcf4-a2fa56f4e050"
      },
      "source": [
        "# Import libraries necessary for this project\n",
        "import numpy as np\n",
        "import pandas as pd\n",
        "import visuals as vs # Supplementary code\n",
        "from sklearn.cross_validation import ShuffleSplit\n",
        "\n",
        "# Pretty display for notebooks\n",
        "%matplotlib inline\n",
        "\n",
        "# Load the Boston housing dataset\n",
        "data = pd.read_csv('housing.csv')\n",
        "prices = data['MEDV']\n",
        "features = data.drop('MEDV', axis = 1)\n",
        "    \n",
        "# Success\n",
        "print \"Boston housing dataset has {} data points with {} variables each.\".format(*data.shape)"
      ],
      "execution_count": null,
      "outputs": [
        {
          "output_type": "stream",
          "text": [
            "Boston housing dataset has 489 data points with 4 variables each.\n"
          ],
          "name": "stdout"
        }
      ]
    },
    {
      "cell_type": "markdown",
      "metadata": {
        "id": "9OVP1DojsOlK",
        "colab_type": "text"
      },
      "source": [
        "## Data Exploration\n",
        "In this first section of this project, you will make a cursory investigation about the Boston housing data and provide your observations. Familiarizing yourself with the data through an explorative process is a fundamental practice to help you better understand and justify your results.\n",
        "\n",
        "Since the main goal of this project is to construct a working model which has the capability of predicting the value of houses, we will need to separate the dataset into **features** and the **target variable**. The **features**, `'RM'`, `'LSTAT'`, and `'PTRATIO'`, give us quantitative information about each data point. The **target variable**, `'MEDV'`, will be the variable we seek to predict. These are stored in `features` and `prices`, respectively."
      ]
    },
    {
      "cell_type": "markdown",
      "metadata": {
        "id": "B6SeIBfFsOlL",
        "colab_type": "text"
      },
      "source": [
        "### Implementation: Calculate Statistics\n",
        "For your very first coding implementation, you will calculate descriptive statistics about the Boston housing prices. Since `numpy` has already been imported for you, use this library to perform the necessary calculations. These statistics will be extremely important later on to analyze various prediction results from the constructed model.\n",
        "\n",
        "In the code cell below, you will need to implement the following:\n",
        "- Calculate the minimum, maximum, mean, median, and standard deviation of `'MEDV'`, which is stored in `prices`.\n",
        "  - Store each calculation in their respective variable."
      ]
    },
    {
      "cell_type": "code",
      "metadata": {
        "id": "OjFtgj5PsOlN",
        "colab_type": "code",
        "colab": {},
        "outputId": "e9c90a49-bb8a-4e9e-9a78-db8ca503f744"
      },
      "source": [
        "# TODO: Minimum price of the data\n",
        "minimum_price = np.amin(prices)\n",
        "\n",
        "# TODO: Maximum price of the data\n",
        "maximum_price = np.amax(prices)\n",
        "\n",
        "# TODO: Mean price of the data\n",
        "mean_price = np.mean(prices)\n",
        "\n",
        "# TODO: Median price of the data\n",
        "median_price = np.median(prices)\n",
        "\n",
        "# TODO: Standard deviation of prices of the data\n",
        "std_price = np.std(prices)\n",
        "\n",
        "# Show the calculated statistics\n",
        "print \"Statistics for Boston housing dataset:\\n\"\n",
        "print \"Minimum price: ${:,.2f}\".format(minimum_price)\n",
        "print \"Maximum price: ${:,.2f}\".format(maximum_price)\n",
        "print \"Mean price: ${:,.2f}\".format(mean_price)\n",
        "print \"Median price ${:,.2f}\".format(median_price)\n",
        "print \"Standard deviation of prices: ${:,.2f}\".format(std_price)"
      ],
      "execution_count": null,
      "outputs": [
        {
          "output_type": "stream",
          "text": [
            "Statistics for Boston housing dataset:\n",
            "\n",
            "Minimum price: $105,000.00\n",
            "Maximum price: $1,024,800.00\n",
            "Mean price: $454,342.94\n",
            "Median price $438,900.00\n",
            "Standard deviation of prices: $165,171.13\n"
          ],
          "name": "stdout"
        }
      ]
    },
    {
      "cell_type": "markdown",
      "metadata": {
        "id": "zwLyXNXEsOlT",
        "colab_type": "text"
      },
      "source": [
        "### Question 1 - Feature Observation\n",
        "As a reminder, we are using three features from the Boston housing dataset: `'RM'`, `'LSTAT'`, and `'PTRATIO'`. For each data point (neighborhood):\n",
        "- `'RM'` is the average number of rooms among homes in the neighborhood.\n",
        "- `'LSTAT'` is the percentage of homeowners in the neighborhood considered \"lower class\" (working poor).\n",
        "- `'PTRATIO'` is the ratio of students to teachers in primary and secondary schools in the neighborhood.\n",
        "\n",
        "_Using your intuition, for each of the three features above, do you think that an increase in the value of that feature would lead to an **increase** in the value of `'MEDV'` or a **decrease** in the value of `'MEDV'`? Justify your answer for each._  \n",
        "**Hint:** Would you expect a home that has an `'RM'` value of 6 be worth more or less than a home that has an `'RM'` value of 7?"
      ]
    },
    {
      "cell_type": "markdown",
      "metadata": {
        "id": "i04TB1lEsOlU",
        "colab_type": "text"
      },
      "source": [
        "**Answer: **\n",
        "For RM I think the price of homes will go up as more rooms means bigger houses, or a more valued houses on neighborhood with people with higher purchasing power to buy. The relation is positive, increase.\n",
        "For the LSTAT, this indicates a greater potential difficulty in buying homes, meaning lower demand. As prices are dictated by supply and demand, the difficulty for buying should cause prices to fall. The relation is negative, decrease.\n",
        "In the case of PTRATIO, it´s hard to tell. But, maybe, it has a decrease relation as less childrens in schools may imply in lower class, working poor."
      ]
    },
    {
      "cell_type": "markdown",
      "metadata": {
        "id": "cK8odzqEsOlV",
        "colab_type": "text"
      },
      "source": [
        "----\n",
        "\n",
        "## Developing a Model\n",
        "In this second section of the project, you will develop the tools and techniques necessary for a model to make a prediction. Being able to make accurate evaluations of each model's performance through the use of these tools and techniques helps to greatly reinforce the confidence in your predictions."
      ]
    },
    {
      "cell_type": "markdown",
      "metadata": {
        "id": "KfCrr8q6sOlX",
        "colab_type": "text"
      },
      "source": [
        "### Implementation: Define a Performance Metric\n",
        "It is difficult to measure the quality of a given model without quantifying its performance over training and testing. This is typically done using some type of performance metric, whether it is through calculating some type of error, the goodness of fit, or some other useful measurement. For this project, you will be calculating the [*coefficient of determination*](http://stattrek.com/statistics/dictionary.aspx?definition=coefficient_of_determination), R<sup>2</sup>, to quantify your model's performance. The coefficient of determination for a model is a useful statistic in regression analysis, as it often describes how \"good\" that model is at making predictions. \n",
        "\n",
        "The values for R<sup>2</sup> range from 0 to 1, which captures the percentage of squared correlation between the predicted and actual values of the **target variable**. A model with an R<sup>2</sup> of 0 always fails to predict the target variable, whereas a model with an R<sup>2</sup> of 1 perfectly predicts the target variable. Any value between 0 and 1 indicates what percentage of the target variable, using this model, can be explained by the **features**. *A model can be given a negative R<sup>2</sup> as well, which indicates that the model is no better than one that naively predicts the mean of the target variable.*\n",
        "\n",
        "For the `performance_metric` function in the code cell below, you will need to implement the following:\n",
        "- Use `r2_score` from `sklearn.metrics` to perform a performance calculation between `y_true` and `y_predict`.\n",
        "- Assign the performance score to the `score` variable."
      ]
    },
    {
      "cell_type": "code",
      "metadata": {
        "id": "F8ZCkMOzsOlY",
        "colab_type": "code",
        "colab": {}
      },
      "source": [
        "# TODO: Import 'r2_score'\n",
        "from sklearn.metrics import r2_score\n",
        "\n",
        "def performance_metric(y_true, y_predict):\n",
        "    \"\"\" Calculates and returns the performance score between \n",
        "        true and predicted values based on the metric chosen. \"\"\"\n",
        "    \n",
        "    # TODO: Calculate the performance score between 'y_true' and 'y_predict'\n",
        "    score = r2_score(y_true, y_predict)\n",
        "    \n",
        "    # Return the score\n",
        "    return score"
      ],
      "execution_count": null,
      "outputs": []
    },
    {
      "cell_type": "markdown",
      "metadata": {
        "id": "-EylGpCPsOle",
        "colab_type": "text"
      },
      "source": [
        "### Question 2 - Goodness of Fit\n",
        "Assume that a dataset contains five data points and a model made the following predictions for the target variable:\n",
        "\n",
        "| True Value | Prediction |\n",
        "| :-------------: | :--------: |\n",
        "| 3.0 | 2.5 |\n",
        "| -0.5 | 0.0 |\n",
        "| 2.0 | 2.1 |\n",
        "| 7.0 | 7.8 |\n",
        "| 4.2 | 5.3 |\n",
        "*Would you consider this model to have successfully captured the variation of the target variable? Why or why not?* \n",
        "\n",
        "Run the code cell below to use the `performance_metric` function and calculate this model's coefficient of determination."
      ]
    },
    {
      "cell_type": "code",
      "metadata": {
        "id": "2w48LD4EsOlf",
        "colab_type": "code",
        "colab": {},
        "outputId": "67b93606-e3aa-4c43-881a-fad6b84e8592"
      },
      "source": [
        "# Calculate the performance of this model\n",
        "score = performance_metric([3, -0.5, 2, 7, 4.2], [2.5, 0.0, 2.1, 7.8, 5.3])\n",
        "print \"Model has a coefficient of determination, R^2, of {:.3f}.\".format(score)"
      ],
      "execution_count": null,
      "outputs": [
        {
          "output_type": "stream",
          "text": [
            "Model has a coefficient of determination, R^2, of 0.923.\n"
          ],
          "name": "stdout"
        }
      ]
    },
    {
      "cell_type": "markdown",
      "metadata": {
        "id": "l9ukHQP_sOlm",
        "colab_type": "text"
      },
      "source": [
        "**Answer: **\n",
        "Yes, this model successfully captured the variation of the target variable. 0.923 indicates the percentage of squared correlation between the predicted and actual values of the target variable. The values for R2 range from 0 to 1. Best possible score is 1.0 and it can be negative because the model can be arbitrarily worse. A constant model that always predicts the expected value of y, disregarding the input features, would get a R^2 score of 0.0."
      ]
    },
    {
      "cell_type": "markdown",
      "metadata": {
        "id": "NNXKe5bRsOln",
        "colab_type": "text"
      },
      "source": [
        "### Implementation: Shuffle and Split Data\n",
        "Your next implementation requires that you take the Boston housing dataset and split the data into training and testing subsets. Typically, the data is also shuffled into a random order when creating the training and testing subsets to remove any bias in the ordering of the dataset.\n",
        "\n",
        "For the code cell below, you will need to implement the following:\n",
        "- Use `train_test_split` from `sklearn.cross_validation` to shuffle and split the `features` and `prices` data into training and testing sets.\n",
        "  - Split the data into 80% training and 20% testing.\n",
        "  - Set the `random_state` for `train_test_split` to a value of your choice. This ensures results are consistent.\n",
        "- Assign the train and testing splits to `X_train`, `X_test`, `y_train`, and `y_test`."
      ]
    },
    {
      "cell_type": "code",
      "metadata": {
        "id": "kqA5XmKssOlo",
        "colab_type": "code",
        "colab": {},
        "outputId": "c32c9964-0e58-423a-e447-676b13e8cd4d"
      },
      "source": [
        "# TODO: Import 'train_test_split'\n",
        "from sklearn.cross_validation import train_test_split\n",
        "\n",
        "# TODO: Shuffle and split the data into training and testing subsets\n",
        "X_train, X_test, y_train, y_test = train_test_split(features, prices, test_size=0.2, random_state=1001)\n",
        "\n",
        "# Success\n",
        "print \"Training and testing split was successful.\""
      ],
      "execution_count": null,
      "outputs": [
        {
          "output_type": "stream",
          "text": [
            "Training and testing split was successful.\n"
          ],
          "name": "stdout"
        }
      ]
    },
    {
      "cell_type": "markdown",
      "metadata": {
        "id": "KCpWLbB7sOlv",
        "colab_type": "text"
      },
      "source": [
        "### Question 3 - Training and Testing\n",
        "*What is the benefit to splitting a dataset into some ratio of training and testing subsets for a learning algorithm?*  \n",
        "**Hint:** What could go wrong with not having a way to test your model?"
      ]
    },
    {
      "cell_type": "markdown",
      "metadata": {
        "id": "Rh2XlXKvsOlx",
        "colab_type": "text"
      },
      "source": [
        "**Answer: ** We need a way of verifying the the model´s performance. Spliting the dataset in training and testing sets enable us to measure the capacity of the model to predict correctly the outcome. It git us the opportunity to calibrate our model so it can fit the outcome better. We can identify if the model is underfitting (high bias) or overvitting (high variance)."
      ]
    },
    {
      "cell_type": "markdown",
      "metadata": {
        "id": "ikOcSuqZsOly",
        "colab_type": "text"
      },
      "source": [
        "----\n",
        "\n",
        "## Analyzing Model Performance\n",
        "In this third section of the project, you'll take a look at several models' learning and testing performances on various subsets of training data. Additionally, you'll investigate one particular algorithm with an increasing `'max_depth'` parameter on the full training set to observe how model complexity affects performance. Graphing your model's performance based on varying criteria can be beneficial in the analysis process, such as visualizing behavior that may not have been apparent from the results alone."
      ]
    },
    {
      "cell_type": "markdown",
      "metadata": {
        "id": "bVqZanA1sOlz",
        "colab_type": "text"
      },
      "source": [
        "### Learning Curves\n",
        "The following code cell produces four graphs for a decision tree model with different maximum depths. Each graph visualizes the learning curves of the model for both training and testing as the size of the training set is increased. Note that the shaded region of a learning curve denotes the uncertainty of that curve (measured as the standard deviation). The model is scored on both the training and testing sets using R<sup>2</sup>, the coefficient of determination.  \n",
        "\n",
        "Run the code cell below and use these graphs to answer the following question."
      ]
    },
    {
      "cell_type": "code",
      "metadata": {
        "scrolled": true,
        "id": "-bYEwpJEsOl0",
        "colab_type": "code",
        "colab": {},
        "outputId": "a9dce88f-a60b-4ce9-9a2e-f93f7e749413"
      },
      "source": [
        "# Produce learning curves for varying training set sizes and maximum depths\n",
        "vs.ModelLearning(features, prices)"
      ],
      "execution_count": null,
      "outputs": [
        {
          "output_type": "display_data",
          "data": {
            "image/png": "[encoded data removed]",
            "text/plain": [
              "<matplotlib.figure.Figure at 0xa608940>"
            ]
          },
          "metadata": {
            "tags": []
          }
        }
      ]
    },
    {
      "cell_type": "markdown",
      "metadata": {
        "id": "ZxNjli3osOl-",
        "colab_type": "text"
      },
      "source": [
        "### Question 4 - Learning the Data\n",
        "*Choose one of the graphs above and state the maximum depth for the model. What happens to the score of the training curve as more training points are added? What about the testing curve? Would having more training points benefit the model?*  \n",
        "**Hint:** Are the learning curves converging to particular scores?"
      ]
    },
    {
      "cell_type": "markdown",
      "metadata": {
        "id": "Je9pUc2SsOl_",
        "colab_type": "text"
      },
      "source": [
        "**Answer: **\n",
        "About the fourth model, with max depth equals 10, it looks like the model suffers from high variance. We can assume that because of the gap in the graph. The model performs quite well on the training set but it does not generalize well. As the number of training points increases, the model doesn´t performs much better on the training set. So, adding more data will help, but we will need a lot of more data. With more data, the testing curve will increase. "
      ]
    },
    {
      "cell_type": "markdown",
      "metadata": {
        "id": "M-qmfZQLsOmA",
        "colab_type": "text"
      },
      "source": [
        "### Complexity Curves\n",
        "The following code cell produces a graph for a decision tree model that has been trained and validated on the training data using different maximum depths. The graph produces two complexity curves — one for training and one for validation. Similar to the **learning curves**, the shaded regions of both the complexity curves denote the uncertainty in those curves, and the model is scored on both the training and validation sets using the `performance_metric` function.  \n",
        "\n",
        "Run the code cell below and use this graph to answer the following two questions."
      ]
    },
    {
      "cell_type": "code",
      "metadata": {
        "id": "u6of3VlKsOmB",
        "colab_type": "code",
        "colab": {},
        "outputId": "50e69198-a7a0-4820-9edb-bc0d3204108c"
      },
      "source": [
        "vs.ModelComplexity(X_train, y_train)"
      ],
      "execution_count": null,
      "outputs": [
        {
          "output_type": "display_data",
          "data": {
            "image/png": "[encoded data removed]",
            "text/plain": [
              "<matplotlib.figure.Figure at 0xc4aa710>"
            ]
          },
          "metadata": {
            "tags": []
          }
        }
      ]
    },
    {
      "cell_type": "markdown",
      "metadata": {
        "id": "93AOC_npsOmH",
        "colab_type": "text"
      },
      "source": [
        "### Question 5 - Bias-Variance Tradeoff\n",
        "*When the model is trained with a maximum depth of 1, does the model suffer from high bias or from high variance? How about when the model is trained with a maximum depth of 10? What visual cues in the graph justify your conclusions?*  \n",
        "**Hint:** How do you know when a model is suffering from high bias or high variance?"
      ]
    },
    {
      "cell_type": "markdown",
      "metadata": {
        "id": "UWFR91TfsOmJ",
        "colab_type": "text"
      },
      "source": [
        "**Answer: **\n",
        "With the maximum depth of 1, the model suffers from high variance as the training and testing are close but with poor performance (score). But with maximum depth of 10, the model overfits, high variance, as it performs better on the training set but poorly on the testing set. It´s a gap."
      ]
    },
    {
      "cell_type": "markdown",
      "metadata": {
        "id": "zzAIpmpksOmK",
        "colab_type": "text"
      },
      "source": [
        "### Question 6 - Best-Guess Optimal Model\n",
        "*Which maximum depth do you think results in a model that best generalizes to unseen data? What intuition lead you to this answer?*"
      ]
    },
    {
      "cell_type": "markdown",
      "metadata": {
        "id": "2UhvPg8AsOmL",
        "colab_type": "text"
      },
      "source": [
        "**Answer: ** With the maximum depth of 4, maybe the model just fit as it performs with 0.8 score. The training and test scores converges with a good score. With less then 4, the model performs worst and with mode the 4 it starts to overfit the data and doesn´t generalizes well."
      ]
    },
    {
      "cell_type": "markdown",
      "metadata": {
        "id": "BBUNUqiXsOmO",
        "colab_type": "text"
      },
      "source": [
        "-----\n",
        "\n",
        "## Evaluating Model Performance\n",
        "In this final section of the project, you will construct a model and make a prediction on the client's feature set using an optimized model from `fit_model`."
      ]
    },
    {
      "cell_type": "markdown",
      "metadata": {
        "id": "kM0j4HJJsOmP",
        "colab_type": "text"
      },
      "source": [
        "### Question 7 - Grid Search\n",
        "*What is the grid search technique and how it can be applied to optimize a learning algorithm?*"
      ]
    },
    {
      "cell_type": "markdown",
      "metadata": {
        "id": "FpFclYWlsOmQ",
        "colab_type": "text"
      },
      "source": [
        "**Answer: ** Grid search is a way of systematically work through multiple combinations of parameters and cross-validating the results to tune or determine which parameter combination gives the best performance."
      ]
    },
    {
      "cell_type": "markdown",
      "metadata": {
        "id": "Zftow_GysOmS",
        "colab_type": "text"
      },
      "source": [
        "### Question 8 - Cross-Validation\n",
        "*What is the k-fold cross-validation training technique? What benefit does this technique provide for grid search when optimizing a model?*  \n",
        "**Hint:** Much like the reasoning behind having a testing set, what could go wrong with using grid search without a cross-validated set?"
      ]
    },
    {
      "cell_type": "markdown",
      "metadata": {
        "id": "cRB784_UsOmT",
        "colab_type": "text"
      },
      "source": [
        "**Answer: ** K-fold cross-validation training technique is a way of partitioning the data set in k equals parts and use 1 as testing and the others as training sets in multiple combinations so all the data set is used as training and testing. The grid search algorithm can benefit from more accuracy because the cross validation uses the mean of all testes results."
      ]
    },
    {
      "cell_type": "markdown",
      "metadata": {
        "id": "ZqYtD_APsOmU",
        "colab_type": "text"
      },
      "source": [
        "### Implementation: Fitting a Model\n",
        "Your final implementation requires that you bring everything together and train a model using the **decision tree algorithm**. To ensure that you are producing an optimized model, you will train the model using the grid search technique to optimize the `'max_depth'` parameter for the decision tree. The `'max_depth'` parameter can be thought of as how many questions the decision tree algorithm is allowed to ask about the data before making a prediction. Decision trees are part of a class of algorithms called *supervised learning algorithms*.\n",
        "\n",
        "For the `fit_model` function in the code cell below, you will need to implement the following:\n",
        "- Use [`DecisionTreeRegressor`](http://scikit-learn.org/stable/modules/generated/sklearn.tree.DecisionTreeRegressor.html) from `sklearn.tree` to create a decision tree regressor object.\n",
        "  - Assign this object to the `'regressor'` variable.\n",
        "- Create a dictionary for `'max_depth'` with the values from 1 to 10, and assign this to the `'params'` variable.\n",
        "- Use [`make_scorer`](http://scikit-learn.org/stable/modules/generated/sklearn.metrics.make_scorer.html) from `sklearn.metrics` to create a scoring function object.\n",
        "  - Pass the `performance_metric` function as a parameter to the object.\n",
        "  - Assign this scoring function to the `'scoring_fnc'` variable.\n",
        "- Use [`GridSearchCV`](http://scikit-learn.org/stable/modules/generated/sklearn.grid_search.GridSearchCV.html) from `sklearn.grid_search` to create a grid search object.\n",
        "  - Pass the variables `'regressor'`, `'params'`, `'scoring_fnc'`, and `'cv_sets'` as parameters to the object. \n",
        "  - Assign the `GridSearchCV` object to the `'grid'` variable."
      ]
    },
    {
      "cell_type": "code",
      "metadata": {
        "id": "7R1I_UpAsOmV",
        "colab_type": "code",
        "colab": {}
      },
      "source": [
        "# TODO: Import 'make_scorer', 'DecisionTreeRegressor', and 'GridSearchCV'\n",
        "from sklearn.metrics import make_scorer\n",
        "from sklearn.tree import DecisionTreeRegressor\n",
        "from sklearn.grid_search import GridSearchCV\n",
        "\n",
        "def fit_model(X, y):\n",
        "    \"\"\" Performs grid search over the 'max_depth' parameter for a \n",
        "        decision tree regressor trained on the input data [X, y]. \"\"\"\n",
        "    \n",
        "    # Create cross-validation sets from the training data\n",
        "    cv_sets = ShuffleSplit(X.shape[0], n_iter = 10, test_size = 0.20, random_state = 0)\n",
        "\n",
        "    # TODO: Create a decision tree regressor object\n",
        "    regressor = DecisionTreeRegressor(random_state = 1234)\n",
        "\n",
        "    # TODO: Create a dictionary for the parameter 'max_depth' with a range from 1 to 10\n",
        "    params = {'max_depth': range(1, 11) }\n",
        "\n",
        "    # TODO: Transform 'performance_metric' into a scoring function using 'make_scorer' \n",
        "    scoring_fnc = make_scorer(performance_metric)\n",
        "\n",
        "    # TODO: Create the grid search object\n",
        "    grid = GridSearchCV(regressor, params, scoring_fnc, cv=cv_sets)\n",
        "\n",
        "    # Fit the grid search object to the data to compute the optimal model\n",
        "    grid = grid.fit(X, y)\n",
        "\n",
        "    # Return the optimal model after fitting the data\n",
        "    return grid.best_estimator_"
      ],
      "execution_count": null,
      "outputs": []
    },
    {
      "cell_type": "markdown",
      "metadata": {
        "id": "cvKLoaY-sOmb",
        "colab_type": "text"
      },
      "source": [
        "### Making Predictions\n",
        "Once a model has been trained on a given set of data, it can now be used to make predictions on new sets of input data. In the case of a *decision tree regressor*, the model has learned *what the best questions to ask about the input data are*, and can respond with a prediction for the **target variable**. You can use these predictions to gain information about data where the value of the target variable is unknown — such as data the model was not trained on."
      ]
    },
    {
      "cell_type": "markdown",
      "metadata": {
        "id": "yZ3ULVresOmc",
        "colab_type": "text"
      },
      "source": [
        "### Question 9 - Optimal Model\n",
        "_What maximum depth does the optimal model have? How does this result compare to your guess in **Question 6**?_  \n",
        "\n",
        "Run the code block below to fit the decision tree regressor to the training data and produce an optimal model."
      ]
    },
    {
      "cell_type": "code",
      "metadata": {
        "scrolled": true,
        "id": "_ZPP7GsTsOmd",
        "colab_type": "code",
        "colab": {},
        "outputId": "3511fc32-c372-45a0-ec44-55329cfda989"
      },
      "source": [
        "# Fit the training data to the model using grid search\n",
        "reg = fit_model(X_train, y_train)\n",
        "\n",
        "# Produce the value for 'max_depth'\n",
        "print \"Parameter 'max_depth' is {} for the optimal model.\".format(reg.get_params()['max_depth'])"
      ],
      "execution_count": null,
      "outputs": [
        {
          "output_type": "stream",
          "text": [
            "Parameter 'max_depth' is 4 for the optimal model.\n"
          ],
          "name": "stdout"
        }
      ]
    },
    {
      "cell_type": "markdown",
      "metadata": {
        "id": "Kn85i_NCsOmj",
        "colab_type": "text"
      },
      "source": [
        "**Answer: ** The model have a maximum depth of 4 as the optimal model like my answer on question 6 based on intuition from analysing the graphs ."
      ]
    },
    {
      "cell_type": "markdown",
      "metadata": {
        "id": "KCVoajMlsOmk",
        "colab_type": "text"
      },
      "source": [
        "### Question 10 - Predicting Selling Prices\n",
        "Imagine that you were a real estate agent in the Boston area looking to use this model to help price homes owned by your clients that they wish to sell. You have collected the following information from three of your clients:\n",
        "\n",
        "| Feature | Client 1 | Client 2 | Client 3 |\n",
        "| :---: | :---: | :---: | :---: |\n",
        "| Total number of rooms in home | 5 rooms | 4 rooms | 8 rooms |\n",
        "| Neighborhood poverty level (as %) | 17% | 32% | 3% |\n",
        "| Student-teacher ratio of nearby schools | 15-to-1 | 22-to-1 | 12-to-1 |\n",
        "*What price would you recommend each client sell his/her home at? Do these prices seem reasonable given the values for the respective features?*  \n",
        "**Hint:** Use the statistics you calculated in the **Data Exploration** section to help justify your response.  \n",
        "\n",
        "Run the code block below to have your optimized model make predictions for each client's home."
      ]
    },
    {
      "cell_type": "code",
      "metadata": {
        "id": "uLuUpHAtsOml",
        "colab_type": "code",
        "colab": {},
        "outputId": "a3cb2d8b-903a-41a9-f90c-2772f5364ee4"
      },
      "source": [
        "# Produce a matrix for client data\n",
        "client_data = [[5, 17, 15], # Client 1\n",
        "               [4, 32, 22], # Client 2\n",
        "               [8, 3, 12]]  # Client 3\n",
        "\n",
        "# Show predictions\n",
        "for i, price in enumerate(reg.predict(client_data)):\n",
        "    print \"Predicted selling price for Client {}'s home: ${:,.2f}\".format(i+1, price)"
      ],
      "execution_count": null,
      "outputs": [
        {
          "output_type": "stream",
          "text": [
            "Predicted selling price for Client 1's home: $405,681.82\n",
            "Predicted selling price for Client 2's home: $223,411.36\n",
            "Predicted selling price for Client 3's home: $926,100.00\n"
          ],
          "name": "stdout"
        }
      ]
    },
    {
      "cell_type": "markdown",
      "metadata": {
        "id": "Pb8mUFvqsOmq",
        "colab_type": "text"
      },
      "source": [
        "**Answer: **\n",
        "The predicted values are between the minimum price: 105,000.00 and the maximum price: 1,024,800.00. The Client´s 1 house selling price that was predicted is a little below the median. Client´s 2 house selling price is -1,39 standard deviation below the mean and Client 3 house is 2,86 standard deviation above the mean. The prediction makes some sense and could be correct."
      ]
    },
    {
      "cell_type": "markdown",
      "metadata": {
        "id": "WnMM9HHCsOmr",
        "colab_type": "text"
      },
      "source": [
        "### Sensitivity\n",
        "An optimal model is not necessarily a robust model. Sometimes, a model is either too complex or too simple to sufficiently generalize to new data. Sometimes, a model could use a learning algorithm that is not appropriate for the structure of the data given. Other times, the data itself could be too noisy or contain too few samples to allow a model to adequately capture the target variable — i.e., the model is underfitted. Run the code cell below to run the `fit_model` function ten times with different training and testing sets to see how the prediction for a specific client changes with the data it's trained on."
      ]
    },
    {
      "cell_type": "code",
      "metadata": {
        "id": "2B4ONZ4wsOms",
        "colab_type": "code",
        "colab": {},
        "outputId": "0ed99768-7e79-4642-8df5-44e08e0a684d"
      },
      "source": [
        "vs.PredictTrials(features, prices, fit_model, client_data)"
      ],
      "execution_count": null,
      "outputs": [
        {
          "output_type": "stream",
          "text": [
            "Trial 1: $391,183.33\n",
            "Trial 2: $419,700.00\n",
            "Trial 3: $415,800.00\n",
            "Trial 4: $420,622.22\n",
            "Trial 5: $413,334.78\n",
            "Trial 6: $411,931.58\n",
            "Trial 7: $399,663.16\n",
            "Trial 8: $407,232.00\n",
            "Trial 9: $351,577.61\n",
            "Trial 10: $413,700.00\n",
            "\n",
            "Range in prices: $69,044.61\n"
          ],
          "name": "stdout"
        }
      ]
    },
    {
      "cell_type": "markdown",
      "metadata": {
        "id": "5Ddym04ksOmy",
        "colab_type": "text"
      },
      "source": [
        "### Question 11 - Applicability\n",
        "*In a few sentences, discuss whether the constructed model should or should not be used in a real-world setting.*  \n",
        "**Hint:** Some questions to answering:\n",
        "- *How relevant today is data that was collected from 1978?*\n",
        "- *Are the features present in the data sufficient to describe a home?*\n",
        "- *Is the model robust enough to make consistent predictions?*\n",
        "- *Would data collected in an urban city like Boston be applicable in a rural city?*"
      ]
    },
    {
      "cell_type": "markdown",
      "metadata": {
        "id": "ZMNOopXLsOmz",
        "colab_type": "text"
      },
      "source": [
        "**Answer: ** The data have to be updated. The price of the houses was correct using market inflation. This can help to better predict the correct value. But the average number of rooms among homes, percentage of homeowners in the neighborhood considered \"lower class\" and ratio of students to teachers in primary and secondary schools in the neighborhood changes over time. So, probably, the house prices prediction will be outdated.\n",
        "Based on the range in prices, 69,044.61, the prediction is not robust. Features like the size, how many floors, garden, pools, number of bathrooms may help to better predict the prices.\n",
        "The price of houses in a rural city may be quite differente than a urban city. The location (urban or rural) may be a feature of the model that can help the prediction."
      ]
    },
    {
      "cell_type": "code",
      "metadata": {
        "id": "98vb6cLVsOm0",
        "colab_type": "code",
        "colab": {}
      },
      "source": [
        ""
      ],
      "execution_count": null,
      "outputs": []
    }
  ]
}